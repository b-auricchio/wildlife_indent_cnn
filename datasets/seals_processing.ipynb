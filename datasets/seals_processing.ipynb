{
 "cells": [
  {
   "attachments": {},
   "cell_type": "markdown",
   "metadata": {},
   "source": [
    "Count number of images in each folder and make initial splits"
   ]
  },
  {
   "cell_type": "code",
   "execution_count": 14,
   "metadata": {},
   "outputs": [
    {
     "data": {
      "text/plain": [
       "True"
      ]
     },
     "execution_count": 14,
     "metadata": {},
     "output_type": "execute_result"
    }
   ],
   "source": [
    "import os\n",
    "root_path = '..\\\\data\\\\seals\\\\'\n",
    "\n",
    "classes = dict()\n",
    "min = 40\n",
    "\n",
    "#Count number of images in each folder\n",
    "for folder in os.listdir(root_path):\n",
    "    classes[folder] = len(os.listdir(root_path + folder))\n",
    "    \n",
    "#Create a open-closed split with class names and their respective image paths (n>=40)\n",
    "in_labels = []\n",
    "in_images = []\n",
    "out_images = []\n",
    "\n",
    "in_dict = dict()\n",
    "\n",
    "for folder in os.listdir(root_path):\n",
    "    if classes[folder] >= min:\n",
    "        in_dict[folder] = classes[folder]\n",
    "        for image in os.listdir(root_path + folder):\n",
    "            in_labels.append(folder)\n",
    "            in_images.append(f'{folder}/{image}') \n",
    "    else:\n",
    "        for image in os.listdir(root_path + folder):\n",
    "            out_images.append(f'{folder}/{image}')\n",
    "\n",
    "#Give each class name a unique integer\n",
    "indices = list(set(in_labels))\n",
    "label_to_int = dict(zip(indices, range(len(indices))))\n",
    "for i in range(len(in_labels)):\n",
    "    in_labels[i] = label_to_int[in_labels[i]]\n",
    "\n",
    "out_data = list(zip(out_images, [0]*len(out_images)))\n",
    "in_data  = list(zip(in_images, in_labels))\n",
    "\n",
    "num_classes = len(in_dict.keys())\n",
    "\n",
    "#Unzip function\n",
    "unzip = lambda x: list(zip(*x))\n",
    "\n",
    "#Create a train-test split\n",
    "from sklearn.model_selection import train_test_split\n",
    "train, test = train_test_split(in_data, test_size=0.2, stratify= unzip(in_data)[1],random_state=42)\n",
    "test, val = train_test_split(test, test_size=0.5, random_state=42, stratify= unzip(test)[1])\n",
    "\n",
    "#Validate the split\n",
    "len(train) + len(val) + len(test) == len(in_data)"
   ]
  },
  {
   "attachments": {},
   "cell_type": "markdown",
   "metadata": {},
   "source": [
    "Export splits as csv"
   ]
  },
  {
   "cell_type": "code",
   "execution_count": 10,
   "metadata": {},
   "outputs": [],
   "source": [
    "#Export all splits to csv files\n",
    "import csv\n",
    "with open('train.csv', 'w', newline='') as file:\n",
    "    writer = csv.writer(file)\n",
    "    writer.writerows(train)\n",
    "\n",
    "with open('val.csv', 'w', newline='') as file:\n",
    "    writer = csv.writer(file)\n",
    "    writer.writerows(val)\n",
    "\n",
    "with open('test_known.csv', 'w', newline='') as file:\n",
    "    writer = csv.writer(file)\n",
    "    writer.writerows(test)\n",
    "\n",
    "with open('test_unknown.csv', 'w', newline='') as file:\n",
    "    writer = csv.writer(file)\n",
    "    writer.writerows((out_data))"
   ]
  },
  {
   "cell_type": "code",
   "execution_count": 18,
   "metadata": {},
   "outputs": [
    {
     "data": {
      "text/plain": [
       "(array([6., 4., 7., 5., 2., 9., 2., 2., 1., 1., 1., 0., 0., 0., 0., 1., 0.,\n",
       "        1., 0., 1.]),\n",
       " array([32. , 34.6, 37.2, 39.8, 42.4, 45. , 47.6, 50.2, 52.8, 55.4, 58. ,\n",
       "        60.6, 63.2, 65.8, 68.4, 71. , 73.6, 76.2, 78.8, 81.4, 84. ]),\n",
       " <BarContainer object of 20 artists>)"
      ]
     },
     "execution_count": 18,
     "metadata": {},
     "output_type": "execute_result"
    },
    {
     "data": {
      "image/png": "[encoded data removed]",
      "text/plain": [
       "<Figure size 640x480 with 1 Axes>"
      ]
     },
     "metadata": {},
     "output_type": "display_data"
    }
   ],
   "source": [
    "import matplotlib.pyplot as plt\n",
    "\n",
    "train_dict = dict()\n",
    "\n",
    "for X, y in train:\n",
    "    if y in train_dict:\n",
    "        train_dict[y] += 1\n",
    "    else:\n",
    "        train_dict[y] = 1\n",
    "\n",
    "plt.hist(train_dict.values(), bins=20)"
   ]
  },
  {
   "cell_type": "code",
   "execution_count": null,
   "metadata": {},
   "outputs": [],
   "source": []
  }
 ],
 "metadata": {
  "kernelspec": {
   "display_name": "Python 3",
   "language": "python",
   "name": "python3"
  },
  "language_info": {
   "codemirror_mode": {
    "name": "ipython",
    "version": 3
   },
   "file_extension": ".py",
   "mimetype": "text/x-python",
   "name": "python",
   "nbconvert_exporter": "python",
   "pygments_lexer": "ipython3",
   "version": "3.11.2"
  },
  "orig_nbformat": 4
 },
 "nbformat": 4,
 "nbformat_minor": 2
}
