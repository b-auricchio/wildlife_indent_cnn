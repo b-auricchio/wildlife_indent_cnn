{
 "cells": [
  {
   "attachments": {},
   "cell_type": "markdown",
   "metadata": {},
   "source": [
    "Importing"
   ]
  },
  {
   "cell_type": "code",
   "execution_count": 34,
   "metadata": {},
   "outputs": [],
   "source": [
    "import os\n",
    "import matplotlib.pyplot as plt\n",
    "import random\n",
    "import numpy as np\n",
    "import pandas as pd\n",
    "import tarfile\n",
    "\n",
    "from torchvision.datasets.folder import default_loader\n",
    "from torchvision.datasets.utils import download_url\n",
    "\n",
    "root = '../data/cub/'\n",
    "filename = 'CUB_200_2011.tgz'\n",
    "\n"
   ]
  },
  {
   "attachments": {},
   "cell_type": "markdown",
   "metadata": {},
   "source": [
    "Download and extract CUB"
   ]
  },
  {
   "cell_type": "code",
   "execution_count": 18,
   "metadata": {},
   "outputs": [
    {
     "name": "stdout",
     "output_type": "stream",
     "text": [
      "Using downloaded and verified file: ../data/cub/CUB_200_2011.tgz\n"
     ]
    }
   ],
   "source": [
    "\n",
    "# url = 'https://data.caltech.edu/records/65de6-vp158/files/CUB_200_2011.tgz'\n",
    "# download_url(url, root, img_filename)\n",
    "\n",
    "# with tarfile.open(os.path.join(root, img_filename), \"r:gz\") as tar:\n",
    "#     tar.extractall(path=root)\n"
   ]
  },
  {
   "attachments": {},
   "cell_type": "markdown",
   "metadata": {},
   "source": [
    "Load files and labels"
   ]
  },
  {
   "cell_type": "code",
   "execution_count": 35,
   "metadata": {},
   "outputs": [],
   "source": [
    "path = os.path.join(root,'CUB_200_2011')\n",
    "imagepath = os.path.join(path,'images')\n",
    "\n",
    "images = pd.read_csv(os.path.join(path,'images.txt'), delimiter=' ', names=['img_id', 'image_path'])\n",
    "labels = pd.read_csv(os.path.join(path,'image_class_labels.txt'), delimiter=' ', names=['img_id', 'target'])\n",
    "labels = labels.iloc[:,1].tolist()\n",
    "images = images.iloc[:,1].tolist()\n",
    "\n",
    "data = []\n",
    "for X, y in zip(images, labels):\n",
    "    data.append([X,y])"
   ]
  },
  {
   "attachments": {},
   "cell_type": "markdown",
   "metadata": {},
   "source": [
    "View class distributions"
   ]
  },
  {
   "cell_type": "code",
   "execution_count": 42,
   "metadata": {},
   "outputs": [
    {
     "data": {
      "text/plain": [
       "(array([  1.,   1.,   1.,   1.,   5.,   2.,   3.,   3.,   8., 175.]),\n",
       " array([41. , 42.9, 44.8, 46.7, 48.6, 50.5, 52.4, 54.3, 56.2, 58.1, 60. ]),\n",
       " <BarContainer object of 10 artists>)"
      ]
     },
     "execution_count": 42,
     "metadata": {},
     "output_type": "execute_result"
    },
    {
     "data": {
      "image/png": "[encoded data removed]",
      "text/plain": [
       "<Figure size 640x480 with 1 Axes>"
      ]
     },
     "metadata": {},
     "output_type": "display_data"
    }
   ],
   "source": [
    "class_distribution = dict()\n",
    "for i in labels:\n",
    "    if i in class_distribution:\n",
    "        class_distribution[i] += 1\n",
    "    else:\n",
    "        class_distribution[i] = 1\n",
    "\n",
    "num_classes = len(class_distribution.keys())\n",
    "plt.hist(class_distribution.values())"
   ]
  },
  {
   "attachments": {},
   "cell_type": "markdown",
   "metadata": {},
   "source": [
    "Making in-out split"
   ]
  },
  {
   "cell_type": "code",
   "execution_count": 55,
   "metadata": {},
   "outputs": [],
   "source": [
    "out_number = 40 #40 classes out-of-set\n",
    "\n",
    "out_classes = list(range(num_classes-out_number+1,num_classes+1))\n",
    "\n",
    "test_unknown = []\n",
    "in_set = []\n",
    "\n",
    "for X, y in data:\n",
    "    if y in out_classes:\n",
    "        test_unknown.append([X,y])\n",
    "    else: \n",
    "        in_set.append([X,y])\n"
   ]
  },
  {
   "attachments": {},
   "cell_type": "markdown",
   "metadata": {},
   "source": [
    "Making train/val/test split"
   ]
  },
  {
   "cell_type": "code",
   "execution_count": 61,
   "metadata": {},
   "outputs": [],
   "source": [
    "split = [0.1, 0.2] # fractional size of val:test splits\n",
    "random.shuffle(in_set)\n",
    "\n",
    "val, test_known, train = (np.split(in_set, [int(split[0]*len(in_set)), int((split[0]+ split[1])*len(in_set))] ))"
   ]
  },
  {
   "cell_type": "code",
   "execution_count": 63,
   "metadata": {},
   "outputs": [
    {
     "data": {
      "text/plain": [
       "True"
      ]
     },
     "execution_count": 63,
     "metadata": {},
     "output_type": "execute_result"
    }
   ],
   "source": [
    "len(val) + len(test_known) + len(train) == len(in_set)"
   ]
  },
  {
   "attachments": {},
   "cell_type": "markdown",
   "metadata": {},
   "source": [
    "Export all as csv"
   ]
  },
  {
   "cell_type": "code",
   "execution_count": 64,
   "metadata": {},
   "outputs": [],
   "source": [
    "np.savetxt(os.path.join(root,\"train.csv\"), \n",
    "           train,\n",
    "           delimiter =\", \", \n",
    "           fmt ='% s')\n",
    "\n",
    "np.savetxt(os.path.join(root,\"test_known.csv\"), \n",
    "           test_known,\n",
    "           delimiter =\", \", \n",
    "           fmt ='% s')\n",
    "\n",
    "np.savetxt(os.path.join(root,\"test_unknown.csv\"), \n",
    "           test_unknown,\n",
    "           delimiter =\", \", \n",
    "           fmt ='% s')\n",
    "\n",
    "np.savetxt(os.path.join(root,\"val.csv\"), \n",
    "           val,\n",
    "           delimiter =\", \", \n",
    "           fmt ='% s')\n"
   ]
  }
 ],
 "metadata": {
  "kernelspec": {
   "display_name": "Python 3",
   "language": "python",
   "name": "python3"
  },
  "language_info": {
   "codemirror_mode": {
    "name": "ipython",
    "version": 3
   },
   "file_extension": ".py",
   "mimetype": "text/x-python",
   "name": "python",
   "nbconvert_exporter": "python",
   "pygments_lexer": "ipython3",
   "version": "3.10.6"
  },
  "orig_nbformat": 4,
  "vscode": {
   "interpreter": {
    "hash": "916dbcbb3f70747c44a77c7bcd40155683ae19c65e1c03b4aa3499c5328201f1"
   }
  }
 },
 "nbformat": 4,
 "nbformat_minor": 2
}
